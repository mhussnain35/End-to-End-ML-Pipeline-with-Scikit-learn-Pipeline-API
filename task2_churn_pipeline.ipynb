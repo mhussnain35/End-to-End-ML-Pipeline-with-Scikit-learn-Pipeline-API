{
  "cells": [
    {
      "cell_type": "markdown",
      "metadata": {},
      "source": [
        "# Task 2 \u2014 End-to-End ML Pipeline for Telco Churn\n",
        "\n",
        "**Objective:** Build a production-ready sklearn Pipeline for customer churn prediction (Telco dataset)."
      ]
    },
    {
      "cell_type": "markdown",
      "metadata": {},
      "source": [
        "## 1) Install & Imports"
      ]
    },
    {
      "cell_type": "code",
      "metadata": {},
      "source": [
        "# !pip install -q scikit-learn pandas matplotlib joblib\n",
        "import os, json\n",
        "import pandas as pd\n",
        "import numpy as np\n",
        "from sklearn.model_selection import train_test_split, GridSearchCV\n",
        "from sklearn.preprocessing import OneHotEncoder, StandardScaler\n",
        "from sklearn.compose import ColumnTransformer\n",
        "from sklearn.pipeline import Pipeline\n",
        "from sklearn.linear_model import LogisticRegression\n",
        "from sklearn.ensemble import RandomForestClassifier\n",
        "from sklearn.metrics import classification_report, accuracy_score\n",
        "import joblib\n"
      ],
      "execution_count": null,
      "outputs": []
    },
    {
      "cell_type": "markdown",
      "metadata": {},
      "source": [
        "## 2) Load Dataset (place `telco_churn.csv` in the same folder)"
      ]
    },
    {
      "cell_type": "code",
      "metadata": {},
      "source": [
        "df = pd.read_csv('telco_churn.csv')\n",
        "df.head()\n"
      ],
      "execution_count": null,
      "outputs": []
    },
    {
      "cell_type": "markdown",
      "metadata": {},
      "source": [
        "## 3) Preprocessing & Pipeline"
      ]
    },
    {
      "cell_type": "code",
      "metadata": {},
      "source": [
        "df['TotalCharges'] = pd.to_numeric(df.get('TotalCharges', pd.Series()), errors='coerce')\n",
        "df['TotalCharges'] = df['TotalCharges'].fillna(df['TotalCharges'].median()) if 'TotalCharges' in df.columns else df.get('TotalCharges')\n",
        "target = 'Churn'\n",
        "y = (df[target].astype(str).str.lower().map({'yes':1,'no':0}))\n",
        "X = df.drop(columns=[target])\n",
        "cat_cols = X.select_dtypes(include=['object']).columns.tolist()\n",
        "num_cols = X.select_dtypes(include=['int64','float64']).columns.tolist()\n",
        "preprocessor = ColumnTransformer([\n",
        "    ('num', StandardScaler(), num_cols),\n",
        "    ('cat', OneHotEncoder(handle_unknown='ignore', sparse=False), cat_cols)\n",
        "])\n",
        "pipe = Pipeline([('prep', preprocessor), ('clf', LogisticRegression(max_iter=400))])\n",
        "X_train, X_test, y_train, y_test = train_test_split(X, y, test_size=0.2, stratify=y, random_state=42)\n",
        "pipe.fit(X_train, y_train)\n",
        "pred = pipe.predict(X_test)\n",
        "print('Accuracy:', accuracy_score(y_test, pred))\n",
        "print(classification_report(y_test, pred))\n"
      ],
      "execution_count": null,
      "outputs": []
    },
    {
      "cell_type": "markdown",
      "metadata": {},
      "source": [
        "## 4) Hyperparameter Tuning (GridSearchCV)"
      ]
    },
    {
      "cell_type": "code",
      "metadata": {},
      "source": [
        "from sklearn.model_selection import GridSearchCV\n",
        "model_rf = Pipeline([('prep', preprocessor), ('clf', RandomForestClassifier(random_state=42))])\n",
        "param_grid = {'clf__n_estimators': [100], 'clf__max_depth': [None, 8]}\n",
        "gs = GridSearchCV(model_rf, param_grid, cv=3, scoring='f1', n_jobs=-1)\n",
        "gs.fit(X_train, y_train)\n",
        "print('Best CV score:', gs.best_score_)\n",
        "best_model = gs.best_estimator_\n",
        "pred_best = best_model.predict(X_test)\n",
        "print('Accuracy (best):', accuracy_score(y_test, pred_best))\n",
        "print(classification_report(y_test, pred_best))\n",
        "joblib.dump(best_model, 'best_pipeline.joblib')\n"
      ],
      "execution_count": null,
      "outputs": []
    },
    {
      "cell_type": "markdown",
      "metadata": {},
      "source": [
        "## 5) Visualizations & Summary\n\n- Visualize feature importances from RandomForest (if available).\n- Save pipeline for deployment with `joblib`.\n"
      ]
    }
  ],
  "metadata": {
    "kernelspec": {
      "display_name": "Python 3",
      "language": "python",
      "name": "python3"
    },
    "language_info": {
      "name": "python",
      "version": "3.x"
    }
  },
  "nbformat": 4,
  "nbformat_minor": 5
}